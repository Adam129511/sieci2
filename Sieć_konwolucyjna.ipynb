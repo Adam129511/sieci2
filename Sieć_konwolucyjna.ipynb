{
  "nbformat": 4,
  "nbformat_minor": 0,
  "metadata": {
    "colab": {
      "provenance": [],
      "authorship_tag": "ABX9TyNArxPsgpgm9/xXQbNFl0mt",
      "include_colab_link": true
    },
    "kernelspec": {
      "name": "python3",
      "display_name": "Python 3"
    },
    "language_info": {
      "name": "python"
    }
  },
  "cells": [
    {
      "cell_type": "markdown",
      "metadata": {
        "id": "view-in-github",
        "colab_type": "text"
      },
      "source": [
        "<a href=\"https://colab.research.google.com/github/Adam129511/sieci2/blob/main/Sie%C4%87_konwolucyjna.ipynb\" target=\"_parent\"><img src=\"https://colab.research.google.com/assets/colab-badge.svg\" alt=\"Open In Colab\"/></a>"
      ]
    },
    {
      "cell_type": "markdown",
      "source": [
        "Konwolucyjna Sieć Neuronowa - MNIST"
      ],
      "metadata": {
        "id": "wAk5YZZb59Bw"
      }
    },
    {
      "cell_type": "code",
      "execution_count": 2,
      "metadata": {
        "id": "35_aITAE4q-Z"
      },
      "outputs": [],
      "source": [
        "import keras\n",
        "from keras.datasets import mnist\n",
        "from keras.models import Sequential\n",
        "from keras.layers import Dense, Flatten, Conv2D, MaxPooling2D"
      ]
    },
    {
      "cell_type": "code",
      "source": [
        "(x_train, y_train), (x_test, y_test) = mnist.load_data()"
      ],
      "metadata": {
        "id": "knzhc9026Ttt"
      },
      "execution_count": 3,
      "outputs": []
    },
    {
      "cell_type": "code",
      "source": [
        "print(x_train.shape)\n",
        "print(x_test.shape)\n",
        "print(y_train.shape)\n",
        "print(y_test.shape)\n",
        "\n",
        "print('Liczba danych treningowych:{}'.format (x_train.shape[0]))\n",
        "print('Liczba danych testowych:', x_test.shape[0])\n",
        "print('Rozmiar pojedynczego obrazka:{}'.format (x_train[0].shape))"
      ],
      "metadata": {
        "colab": {
          "base_uri": "https://localhost:8080/"
        },
        "id": "LxV-Kvoo-9b2",
        "outputId": "e0888e77-b9ac-49bd-9e47-099b75889940"
      },
      "execution_count": 4,
      "outputs": [
        {
          "output_type": "stream",
          "name": "stdout",
          "text": [
            "(60000, 28, 28)\n",
            "(10000, 28, 28)\n",
            "(60000,)\n",
            "(10000,)\n",
            "Liczba danych treningowych:60000\n",
            "Liczba danych testowych: 10000\n",
            "Rozmiar pojedynczego obrazka:(28, 28)\n"
          ]
        }
      ]
    },
    {
      "cell_type": "code",
      "source": [
        "import matplotlib.pyplot as plt\n",
        "plt.imshow(x_train[12],cmap='Greys')\n",
        "plt.axis('off')"
      ],
      "metadata": {
        "colab": {
          "base_uri": "https://localhost:8080/",
          "height": 423
        },
        "id": "SIs1acuB_LBX",
        "outputId": "0d3d92e1-8325-4d89-d44b-de56c992dfc8"
      },
      "execution_count": 5,
      "outputs": [
        {
          "output_type": "execute_result",
          "data": {
            "text/plain": [
              "(-0.5, 27.5, 27.5, -0.5)"
            ]
          },
          "metadata": {},
          "execution_count": 5
        },
        {
          "output_type": "display_data",
          "data": {
            "text/plain": [
              "<Figure size 640x480 with 1 Axes>"
            ],
            "image/png": "[encoded data removed]"
          },
          "metadata": {}
        }
      ]
    },
    {
      "cell_type": "code",
      "source": [
        "print(keras.backend.image_data_format()) #Prezentuje format zapisu danych"
      ],
      "metadata": {
        "colab": {
          "base_uri": "https://localhost:8080/"
        },
        "id": "HQLfx9riF61M",
        "outputId": "a3ad96a1-595c-4a96-ff7a-3aee41c2c2e6"
      },
      "execution_count": 6,
      "outputs": [
        {
          "output_type": "stream",
          "name": "stdout",
          "text": [
            "channels_last\n"
          ]
        }
      ]
    },
    {
      "cell_type": "code",
      "source": [
        "img_rows, img_cols = 28,28 #Ustawienie formatu\n",
        "if keras.backend.image_data_format() == 'channel_first':\n",
        "    x_train = x_train.reshape(x_train.shape[0], 1, img_rows, img_cols)\n",
        "    x_test = x_test.reshape(x_test.shape[0], 1, img_rows, img_cols)\n",
        "    input_shape = (1, img_rows, img_cols)\n",
        "else:\n",
        "    x_train = x_train.reshape(x_train.shape[0], img_rows, img_cols, 1)\n",
        "    x_test = x_test.reshape(x_test.shape[0], img_rows, img_cols, 1)\n",
        "    input_shape = (img_rows, img_cols, 1)\n",
        "\n",
        "print(input_shape)"
      ],
      "metadata": {
        "colab": {
          "base_uri": "https://localhost:8080/"
        },
        "id": "vZ0jdakhJTgx",
        "outputId": "49232a26-b7b5-427c-bad0-bed911762a60"
      },
      "execution_count": 7,
      "outputs": [
        {
          "output_type": "stream",
          "name": "stdout",
          "text": [
            "(28, 28, 1)\n"
          ]
        }
      ]
    },
    {
      "cell_type": "markdown",
      "source": [
        "Standaryzacja danych"
      ],
      "metadata": {
        "id": "L3StePTlTXKu"
      }
    },
    {
      "cell_type": "code",
      "source": [
        "x_train = x_train.astype('float32')\n",
        "x_test = x_test.astype('float32')\n",
        "\n",
        "x_test /= 255\n",
        "x_train /= 255\n",
        "\n",
        "print(x_train.shape)\n",
        "print(x_test.shape)"
      ],
      "metadata": {
        "colab": {
          "base_uri": "https://localhost:8080/"
        },
        "id": "hPBv0XJzKQm4",
        "outputId": "4c2ef1ff-4683-4074-9729-940626ad1df0"
      },
      "execution_count": 8,
      "outputs": [
        {
          "output_type": "stream",
          "name": "stdout",
          "text": [
            "(60000, 28, 28, 1)\n",
            "(10000, 28, 28, 1)\n"
          ]
        }
      ]
    },
    {
      "cell_type": "code",
      "source": [
        "y_train = keras.utils.to_categorical(y_train, num_classes= 10)\n",
        "y_test = keras.utils.to_categorical(y_test, num_classes= 10)\n",
        "\n",
        "print(y_train.shape)\n",
        "print(y_test.shape)"
      ],
      "metadata": {
        "colab": {
          "base_uri": "https://localhost:8080/"
        },
        "id": "CNwHZt9XhWfo",
        "outputId": "fbb05a72-d684-47eb-d451-21e25b37a999"
      },
      "execution_count": 9,
      "outputs": [
        {
          "output_type": "stream",
          "name": "stdout",
          "text": [
            "(60000, 10)\n",
            "(10000, 10)\n"
          ]
        }
      ]
    },
    {
      "cell_type": "code",
      "source": [
        "y_train[0]"
      ],
      "metadata": {
        "colab": {
          "base_uri": "https://localhost:8080/"
        },
        "id": "Rni4bLPMkARD",
        "outputId": "52cf7806-f826-4928-93b1-3b19fa4bf73e"
      },
      "execution_count": 10,
      "outputs": [
        {
          "output_type": "execute_result",
          "data": {
            "text/plain": [
              "array([0., 0., 0., 0., 0., 1., 0., 0., 0., 0.], dtype=float32)"
            ]
          },
          "metadata": {},
          "execution_count": 10
        }
      ]
    },
    {
      "cell_type": "markdown",
      "source": [
        "Budowa Modelu"
      ],
      "metadata": {
        "id": "P0QexOo1mfbL"
      }
    },
    {
      "cell_type": "code",
      "source": [
        "model = Sequential()\n",
        "model.add(Conv2D(filters = 32, kernel_size=(3,3), activation = 'relu', input_shape = (28, 28, 1) ))\n",
        "model.add(Conv2D(filters = 64, kernel_size=(3,3), activation = 'relu'))\n",
        "model.add(MaxPooling2D(pool_size = (2,2)))\n",
        "model.add(Flatten())\n",
        "model.add(Dense(units=128, activation = 'relu'))\n",
        "model.add(Dense(units=10, activation='softmax'))\n",
        "\n",
        "model.summary()"
      ],
      "metadata": {
        "colab": {
          "base_uri": "https://localhost:8080/"
        },
        "id": "d-V-wst6mi1b",
        "outputId": "838c4f91-12fc-440f-9cc1-5eb8695235fb"
      },
      "execution_count": 12,
      "outputs": [
        {
          "output_type": "stream",
          "name": "stdout",
          "text": [
            "Model: \"sequential_1\"\n",
            "_________________________________________________________________\n",
            " Layer (type)                Output Shape              Param #   \n",
            "=================================================================\n",
            " conv2d_2 (Conv2D)           (None, 26, 26, 32)        320       \n",
            "                                                                 \n",
            " conv2d_3 (Conv2D)           (None, 24, 24, 64)        18496     \n",
            "                                                                 \n",
            " max_pooling2d_1 (MaxPooling  (None, 12, 12, 64)       0         \n",
            " 2D)                                                             \n",
            "                                                                 \n",
            " flatten_1 (Flatten)         (None, 9216)              0         \n",
            "                                                                 \n",
            " dense_2 (Dense)             (None, 128)               1179776   \n",
            "                                                                 \n",
            " dense_3 (Dense)             (None, 10)                1290      \n",
            "                                                                 \n",
            "=================================================================\n",
            "Total params: 1,199,882\n",
            "Trainable params: 1,199,882\n",
            "Non-trainable params: 0\n",
            "_________________________________________________________________\n"
          ]
        }
      ]
    },
    {
      "cell_type": "code",
      "source": [
        "model.compile(optimizer='adadelta',\n",
        "              loss = 'categorical_crossentropy',\n",
        "              metrics=['accuracy'] )"
      ],
      "metadata": {
        "id": "DbtphFLwrJG1"
      },
      "execution_count": 14,
      "outputs": []
    },
    {
      "cell_type": "code",
      "source": [
        "history = model.fit(x_train, y_train, batch_size = 128, epochs=20, validation_data = (x_test, y_test))"
      ],
      "metadata": {
        "colab": {
          "base_uri": "https://localhost:8080/"
        },
        "id": "N0YjGMVMsPRU",
        "outputId": "5a88f069-1e3e-4814-925f-77ebc0dfb889"
      },
      "execution_count": null,
      "outputs": [
        {
          "output_type": "stream",
          "name": "stdout",
          "text": [
            "Epoch 1/20\n",
            "469/469 [==============================] - 173s 370ms/step - loss: 2.2617 - accuracy: 0.3155 - val_loss: 2.2232 - val_accuracy: 0.4991\n",
            "Epoch 2/20\n",
            "469/469 [==============================] - 172s 368ms/step - loss: 2.1773 - accuracy: 0.5405 - val_loss: 2.1198 - val_accuracy: 0.5861\n",
            "Epoch 3/20\n",
            "469/469 [==============================] - 176s 376ms/step - loss: 2.0494 - accuracy: 0.5948 - val_loss: 1.9576 - val_accuracy: 0.6302\n",
            "Epoch 4/20\n",
            "469/469 [==============================] - 171s 365ms/step - loss: 1.8444 - accuracy: 0.6479 - val_loss: 1.6975 - val_accuracy: 0.6835\n",
            "Epoch 5/20\n",
            "469/469 [==============================] - 168s 358ms/step - loss: 1.5433 - accuracy: 0.7076 - val_loss: 1.3558 - val_accuracy: 0.7505\n",
            "Epoch 6/20\n",
            " 92/469 [====>.........................] - ETA: 2:06 - loss: 1.3378 - accuracy: 0.7411"
          ]
        }
      ]
    },
    {
      "cell_type": "code",
      "source": [],
      "metadata": {
        "id": "8Q0p6Y06si9R"
      },
      "execution_count": null,
      "outputs": []
    }
  ]
}