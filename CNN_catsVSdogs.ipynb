{
  "nbformat": 4,
  "nbformat_minor": 0,
  "metadata": {
    "colab": {
      "provenance": [],
      "authorship_tag": "ABX9TyPsjACP1f4yOeAv3D4bSPYN",
      "include_colab_link": true
    },
    "kernelspec": {
      "name": "python3",
      "display_name": "Python 3"
    },
    "language_info": {
      "name": "python"
    }
  },
  "cells": [
    {
      "cell_type": "markdown",
      "metadata": {
        "id": "view-in-github",
        "colab_type": "text"
      },
      "source": [
        "<a href=\"https://colab.research.google.com/github/Adam129511/sieci2/blob/main/CNN_catsVSdogs.ipynb\" target=\"_parent\"><img src=\"https://colab.research.google.com/assets/colab-badge.svg\" alt=\"Open In Colab\"/></a>"
      ]
    },
    {
      "cell_type": "markdown",
      "source": [
        "##KONWOLUCYJNE SIECI NEURONOWE - Dogs vs Cats\n",
        "Projekt polega na przyjrzeniu się sieciom konwolucyjnym i próbie zastosowania tych sieci w zagadnieniach klasyfikacji obrazu. Pokażemy jak postępować w przypadku niewielkiego zbioru danych treningowych i jakie techniki zastosować w celu optymalizacji takich modeli\n",
        "\n",
        "W odróżnieniu od sieci gęstych, które uczą się cech globalnie, sieci konwolucyjne uczą się lokalnych wzorców. Innymi słowy wzorce rozpoznawane przez sieć konwolucyjną są niezależne od przesunięcia, co charakteryzuje sieci CNN bardzo dużą wydajnością.\n",
        "\n",
        "Kolejną zaletą sieci CNN jest możliwość uczenia przestrzennej hierarchi wzorców. Pierwsze warstwy uczą się małych lokalnych wzorców, takich jak krawęzie, zaś kolejne warstwy będą uczyły się większych struktur składających się z elementów rozpoznanych przez początkowe warstwy.\n",
        "\n",
        "\n"
      ],
      "metadata": {
        "id": "Bok6VN5E2dI-"
      }
    },
    {
      "cell_type": "markdown",
      "source": [
        "#Czyszczenie katalogu roboczego\n",
        "\n",
        "\n",
        "> Wpisując ba początku komórki polecenie %%bash jesteśmy w stanie wykonywać polecenia bashowe na systemie goszczącym naszą instancję notebook`a. Na początku wyczyścimy nasz katalog roboczy\n",
        "\n",
        "\n",
        "\n",
        "\n"
      ],
      "metadata": {
        "id": "eKycJ-IJCy0c"
      }
    },
    {
      "cell_type": "code",
      "execution_count": 1,
      "metadata": {
        "id": "kVa0iKlVeCR1"
      },
      "outputs": [],
      "source": [
        "%%bash\n",
        "rm -rf /content/*"
      ]
    },
    {
      "cell_type": "code",
      "source": [
        "import os\n",
        "import shutil\n",
        "import matplotlib.pyplot as plt\n",
        "import seaborn as sns\n",
        "sns.set()\n",
        "\n",
        "import warnings\n",
        "warnings.filterwarnings('ignore')"
      ],
      "metadata": {
        "id": "M3wFkt4tUdSG"
      },
      "execution_count": 2,
      "outputs": []
    },
    {
      "cell_type": "markdown",
      "source": [
        "#Pobieranie danych\n",
        "\n",
        "Dane pobierzemy z bucketu S3. S3 jest to usługa storage w chmurze Amazona.\n",
        "\n",
        "Nazwa bucketu to: ml-repository-krakers.\n",
        "Spakowany plik dogs-vs-cats.zip ma nieco ponad 812 MB i jest przechowywany w regionie UE(ireland)"
      ],
      "metadata": {
        "id": "Vqa0-7NfqSow"
      }
    },
    {
      "cell_type": "code",
      "source": [
        "%%bash\n",
        "pwd #funkcja drukująca katalog roboczy w którym się znajdujemy\n",
        "wget --output-document=cats_and_dogs.zip --quiet https://ml-repository-krakers.s3-eu-west-1.amazonaws.com/kaggle+/cats_and_dogs/dogs-vs-cats.zip #funckcja pobiera dane i zapisuje w pliku cats_and_dogs.zip\n",
        "ls\n"
      ],
      "metadata": {
        "colab": {
          "base_uri": "https://localhost:8080/"
        },
        "id": "-DB513NqqQzz",
        "outputId": "e3d66767-8772-4085-a8d5-d865bb941530"
      },
      "execution_count": 3,
      "outputs": [
        {
          "output_type": "stream",
          "name": "stdout",
          "text": [
            "/content\n",
            "cats_and_dogs.zip\n"
          ]
        }
      ]
    },
    {
      "cell_type": "markdown",
      "source": [
        "#Wypakowanie danych"
      ],
      "metadata": {
        "id": "xM5G4GxGT8Jz"
      }
    },
    {
      "cell_type": "code",
      "source": [
        "%%bash\n",
        "unzip cats_and_dogs.zip\n",
        "\n",
        "rm -rf sampleSubmission.csv\n",
        "\n",
        "unzip -q train.zip -d /content/kaggle_original_data\n",
        "rm -rf train.zip\n",
        "cp /content/kaggle_original_data/train/* /content/kaggle_original_data/\n",
        "rm -rf /content/kaggle_original_data/train\n",
        "unzip -q /content/test1.zip\n",
        "\n",
        "\n"
      ],
      "metadata": {
        "colab": {
          "base_uri": "https://localhost:8080/"
        },
        "id": "mEa2wRUMT3a9",
        "outputId": "7e66fb54-4c63-46b6-d8a3-ce853dc9d1cb"
      },
      "execution_count": 4,
      "outputs": [
        {
          "output_type": "stream",
          "name": "stdout",
          "text": [
            "Archive:  cats_and_dogs.zip\n",
            "  inflating: sampleSubmission.csv    \n",
            "  inflating: train.zip               \n",
            "  inflating: test1.zip               \n"
          ]
        }
      ]
    },
    {
      "cell_type": "code",
      "source": [
        "%%bash\n",
        "\n",
        "\n",
        "ls\n"
      ],
      "metadata": {
        "colab": {
          "base_uri": "https://localhost:8080/"
        },
        "id": "s0XA_p4fY3D1",
        "outputId": "a577b6a1-b9f8-4e21-800e-ef9327dbe7e5"
      },
      "execution_count": 5,
      "outputs": [
        {
          "output_type": "stream",
          "name": "stdout",
          "text": [
            "cats_and_dogs.zip\n",
            "kaggle_original_data\n",
            "test1\n",
            "test1.zip\n"
          ]
        }
      ]
    },
    {
      "cell_type": "markdown",
      "source": [
        "#Zdefiniowanie uzytecznych funkcji"
      ],
      "metadata": {
        "id": "R1V99-XTepoN"
      }
    },
    {
      "cell_type": "code",
      "source": [
        "def make_accuracy_plot(history):\n",
        "     #Funkcja zwraca wykres dokładośći (accuracy) modelu na zbiorze treningowym i walidacyjnym\n",
        "    import matplotlib.pyplot as plt\n",
        "    import seaborn as sns\n",
        "    sns.set()\n",
        "    acc, val_acc = history.history['accuracy'], history.history['val_accuracy']\n",
        "    epochs = range(1, len(acc)+1)\n",
        "\n",
        "    plt.figure(figsize = (10,8))\n",
        "    plt.plot(epochs, acc, label = \"dokładność trenowania\", marker = 'o')\n",
        "    plt.plot(epochs, val_acc, label = \"dokładność walidacji\", marker = 'o')\n",
        "    plt.legend()\n",
        "    plt.title('Dokładność trenowania i walidacji')\n",
        "    plt.xlabel('epoki')\n",
        "    plt.ylabel('Dokładność')\n",
        "    plt.show()\n",
        "\n",
        "def make_loss_plot(history): #Funkcja zwraca wykres straty (loss) na zbiorze treningowym i walidacyjnym\n",
        "    import matplotlib.pyplot as plt\n",
        "    import seaborn as sns\n",
        "    sns.set()\n",
        "    loss, val_loss = history.history['loss'], history.history['val_loss']\n",
        "    epochs= range(1, len(loss)+1)\n",
        "\n",
        "    plt.figure(figsize = (10,8))\n",
        "    plt.plot(epochs, loss, label = \"Strata trenowania\", marker = 'o')\n",
        "    plt.plot(epochs, val_loss, label = \"Strata walidacji\", marker = 'o')\n",
        "    plt.legend()\n",
        "    plt.title('Strata trenowania i walidacji')\n",
        "    plt.xlabel('epoki')\n",
        "    plt.ylabel('Strata')\n",
        "    plt.show()\n",
        "\n",
        "def display_augmented_images(directory, index):#Funkcja zwraca wykres przykładowych obrazów za pomocą techniki augmentacji danych.\n",
        "\n",
        "    fnames = [os.path.join(directory, fname) for fname in os.listdir(directory)] #pobranie ściezek do plików gdzie są zdjęcia\n",
        "    img_path = fnames[index]\n",
        "    img = image.load_img(img_path, target_size=(150,150))\n",
        "\n",
        "    x = image.img_to_array(img)\n",
        "    x = x.reshape((1,) + x.shape)\n",
        "\n",
        "    i = 1\n",
        "    plt.figure(figsize=(20,14))\n",
        "    for batch in datagen.flow(x, batch_size=1):\n",
        "        plt.subplot(3,4,i)\n",
        "        plt.grid(False)\n",
        "        imgplot = plt.imshow(image.array_to_img(batch[0]))\n",
        "        i+=1\n",
        "        if i % 13 == 0:\n",
        "            break\n",
        "\n"
      ],
      "metadata": {
        "id": "Wlq87uCze0qn"
      },
      "execution_count": 7,
      "outputs": []
    },
    {
      "cell_type": "markdown",
      "source": [
        "##Przygotowanie katalogów\n",
        "Nasze dane będą znajdować się w katalogu:\n",
        "\n",
        "> /content/cats_and_dogs\n",
        "\n",
        "podzielimy ten katalog na trzy podkatalogi:\n",
        "*   train\n",
        "*   valid\n",
        "*   test\n",
        "\n",
        "W zbiorze treningowym odłożymy 2000 próbek(1000 zdjęciów psów i 1000 zdjęć kotów), do zbioru walidacyjnego trafi 1000 próbek (500 zdjęć psów i 500 zdjęć kotów), zaś do zbioru testowego ostatnie 1000 próbek (500 zdjęć psów i 500 zdjęć kotów).\n",
        "\n",
        "\n",
        "\n",
        "\n",
        "\n",
        "\n",
        "\n",
        "\n",
        "\n"
      ],
      "metadata": {
        "id": "zrMbk8bSqxUj"
      }
    }
  ]
}